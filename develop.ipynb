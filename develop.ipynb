{
 "cells": [
  {
   "cell_type": "markdown",
   "metadata": {},
   "source": [
    "# Introduction"
   ]
  },
  {
   "cell_type": "markdown",
   "metadata": {},
   "source": [
    "### Develop train/test sets for the cov module"
   ]
  },
  {
   "cell_type": "code",
   "execution_count": 33,
   "metadata": {},
   "outputs": [
    {
     "name": "stdout",
     "output_type": "stream",
     "text": [
      "Saved 192 train equations to equation_templates/cov_level5/train_eqns.txt\n",
      "Saved 48 test equations to equation_templates/cov_level5/test_eqns.txt\n"
     ]
    }
   ],
   "source": [
    "import sympy as sp\n",
    "from itertools import combinations, permutations\n",
    "import os\n",
    "import random\n",
    "\n",
    "# Symbols\n",
    "x, a, b, c, d, e = sp.symbols('x a b c d e')\n",
    "\n",
    "# Templates\n",
    "templates = [\n",
    "    x**2 + 2*b*x + c,\n",
    "    x**2 + b*x + c,\n",
    "    a*x**2 + 2*b*x + c,\n",
    "    a*x**2 + b*x + c\n",
    "]\n",
    "\n",
    "# Generate combinations of 3 constants from {a, b, c}\n",
    "consts = [a, b, c, d, e]  # 3 constants\n",
    "subsets = list(combinations(consts, 3))  # 1 subset: [(a, b, c)]\n",
    "\n",
    "# Generate all equations\n",
    "all_equations = []\n",
    "for template in templates:\n",
    "    for subset in subsets:\n",
    "        for perm in permutations(subset):\n",
    "            eq = template.subs({a: perm[0], b: perm[1], c: perm[2]})\n",
    "            all_equations.append(eq)\n",
    "\n",
    "# Split into train/test (80% train, 20% test)\n",
    "random.seed(0)  # For reproducibility\n",
    "random.shuffle(all_equations)\n",
    "cutoff = int(0.8 * len(all_equations))  # 80% of 24 = 19 equations\n",
    "train_eqns = all_equations[:cutoff]     # 19 equations\n",
    "test_eqns = all_equations[cutoff:]      # 5 equations\n",
    "\n",
    "# Check for empty sets\n",
    "if not train_eqns:\n",
    "    raise ValueError(\"Train equation set is empty. Increase number of constants or adjust split.\")\n",
    "if not test_eqns:\n",
    "    raise ValueError(\"Test equation set is empty. Increase number of constants or adjust split.\")\n",
    "\n",
    "# Create output directory\n",
    "num_constants = len(consts)  # 3\n",
    "output_dir = f\"equation_templates/cov_level{num_constants}\"\n",
    "os.makedirs(output_dir, exist_ok=True)\n",
    "\n",
    "# Save train equations to file\n",
    "train_file = os.path.join(output_dir, \"train_eqns.txt\")\n",
    "try:\n",
    "    with open(train_file, 'w') as f:\n",
    "        f.write(f\"# {len(train_eqns)} train equations\\n\")\n",
    "        for eq in train_eqns:\n",
    "            f.write(f\"{eq}\\n\")\n",
    "except IOError as e:\n",
    "    raise IOError(f\"Failed to write to {train_file}: {e}\")\n",
    "\n",
    "# Save test equations to file\n",
    "test_file = os.path.join(output_dir, \"test_eqns.txt\")\n",
    "try:\n",
    "    with open(test_file, 'w') as f:\n",
    "        f.write(f\"# {len(test_eqns)} test equations\\n\")\n",
    "        for eq in test_eqns:\n",
    "            f.write(f\"{eq}\\n\")\n",
    "except IOError as e:\n",
    "    raise IOError(f\"Failed to write to {test_file}: {e}\")\n",
    "\n",
    "print(f\"Saved {len(train_eqns)} train equations to {train_file}\")\n",
    "print(f\"Saved {len(test_eqns)} test equations to {test_file}\")"
   ]
  },
  {
   "cell_type": "code",
   "execution_count": null,
   "metadata": {},
   "outputs": [],
   "source": []
  }
 ],
 "metadata": {
  "kernelspec": {
   "display_name": "Python (abel-rl)",
   "language": "python",
   "name": "abel-rl"
  },
  "language_info": {
   "codemirror_mode": {
    "name": "ipython",
    "version": 3
   },
   "file_extension": ".py",
   "mimetype": "text/x-python",
   "name": "python",
   "nbconvert_exporter": "python",
   "pygments_lexer": "ipython3",
   "version": "3.9.13"
  }
 },
 "nbformat": 4,
 "nbformat_minor": 2
}
