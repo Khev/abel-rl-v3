{
 "cells": [
  {
   "cell_type": "markdown",
   "metadata": {},
   "source": [
    "# Introduction"
   ]
  },
  {
   "cell_type": "markdown",
   "metadata": {},
   "source": [
    "### Develop train/test sets for the cov module"
   ]
  },
  {
   "cell_type": "code",
   "execution_count": 12,
   "metadata": {},
   "outputs": [
    {
     "name": "stdout",
     "output_type": "stream",
     "text": [
      "[2, a, b, c, x, b*x, x**2, a*x**2]\n",
      "[2, a, b, c, x, x**2, a*x**2, b*x]\n"
     ]
    }
   ],
   "source": [
    "from collections import deque\n",
    "\n",
    "def get_ordered_sub_expressions(expr, i):\n",
    "    if expr == 0:\n",
    "        return []\n",
    "    sub_expressions = set()\n",
    "    queue = deque([expr])            # O(1) popleft\n",
    "    while queue:\n",
    "        e = queue.popleft()\n",
    "        if e not in sub_expressions and 1/e not in sub_expressions and e not in (-1, 0, 1):\n",
    "            sub_expressions.add(e)\n",
    "            if not e.is_Atom:\n",
    "                queue.extend(e.args)\n",
    "    sub_expressions.discard(expr)\n",
    "    #return sorted(sub_expressions, key=lambda x: x.sort_key())   #UNCOMMENT THIS ONE\n",
    "    if i == 1:\n",
    "        return sorted(sub_expressions, key=lambda x: (len(str(x)), str(x)))\n",
    "    else:\n",
    "        return sorted(sub_expressions, key=lambda x: x.sort_key())   #UNCOMMENT THIS ONE\n",
    "\n",
    "from sympy import symbols\n",
    "\n",
    "a,b,c,x = symbols('a b c x')\n",
    "expr = a*x**2 + b*x+c\n",
    "\n",
    "print(get_ordered_sub_expressions(expr, 1))\n",
    "print(get_ordered_sub_expressions(expr, 2))"
   ]
  },
  {
   "cell_type": "code",
   "execution_count": 14,
   "metadata": {},
   "outputs": [
    {
     "name": "stdout",
     "output_type": "stream",
     "text": [
      "0.3350601249999272\n",
      "2.9103814579999607\n"
     ]
    }
   ],
   "source": [
    "import timeit\n",
    "\n",
    "\n",
    "setup = \"from sympy import symbols; a,b,c,x = symbols('a b c x'); expr = a*x**2 + b*x + c\"\n",
    "stmt1 = \"sorted({a,x,a*x,a*x**2,b*x,x**2}, key=lambda e: e.sort_key())\"\n",
    "stmt2 = \"sorted({a,x,a*x,a*x**2,b*x,x**2}, key=lambda e: (len(str(e)), str(e)))\"\n",
    "\n",
    "print(timeit.timeit(stmt1, setup=setup, number=10000))\n",
    "print(timeit.timeit(stmt2, setup=setup, number=10000))"
   ]
  }
 ],
 "metadata": {
  "kernelspec": {
   "display_name": "Python (abel-rl)",
   "language": "python",
   "name": "abel-rl"
  },
  "language_info": {
   "codemirror_mode": {
    "name": "ipython",
    "version": 3
   },
   "file_extension": ".py",
   "mimetype": "text/x-python",
   "name": "python",
   "nbconvert_exporter": "python",
   "pygments_lexer": "ipython3",
   "version": "3.9.13"
  }
 },
 "nbformat": 4,
 "nbformat_minor": 2
}
